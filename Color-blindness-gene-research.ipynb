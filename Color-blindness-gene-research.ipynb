{
 "cells": [
  {
   "cell_type": "markdown",
   "metadata": {},
   "source": [
    "import pandas, statistics, and scipy.stats, then read in the annotation files"
   ]
  },
  {
   "cell_type": "code",
   "execution_count": 37,
   "metadata": {},
   "outputs": [],
   "source": [
    "import pandas as pd\n",
    "from statistics import mean\n",
    "import scipy.stats "
   ]
  },
  {
   "cell_type": "code",
   "execution_count": 38,
   "metadata": {},
   "outputs": [],
   "source": [
    "OPN1LW_df = pd.read_csv('OPN1LW_annotations.txt', sep='\\t', header = 0, names = ['chr','cons','region','start','stop','junk1','junk2','junk3','id'])\n",
    "OPN1MW_df = pd.read_csv('OPN1MW_annotations.txt', sep='\\t', header = 0, names = ['chr','cons','region','start','stop','junk1','junk2','junk3','id'])\n",
    "OPN1SW_df = pd.read_csv('OPN1SW_annotations.txt', sep='\\t', header = 0, names = ['chr','cons','region','start','stop','junk1','junk2','junk3','id'])\n",
    "\n",
    "chr7_var = pd.read_csv('chr7_variants.txt',sep='\\t',header=0,names=['chr','start','stop','freqs','junk','junk2'])\n",
    "chrX_var = pd.read_csv('chrX_variants.txt',sep='\\t',header=0,names=['chr','start','stop','freqs','junk','junk2'])"
   ]
  },
  {
   "attachments": {},
   "cell_type": "markdown",
   "metadata": {},
   "source": [
    "take a look at the data contained in the annotation files"
   ]
  },
  {
   "cell_type": "code",
   "execution_count": 39,
   "metadata": {},
   "outputs": [
    {
     "name": "stdout",
     "output_type": "stream",
     "text": [
      "   chr  start   stop                                              freqs junk  \\\n",
      "0    7  16486  16487  ERATE=0.0118;LDAF=0.8149;AN=2184;AC=1968;VT=SN...    .   \n",
      "1    7  16510  16511  AA=.;AC=2155;AF=0.99;AFR_AF=0.95;AMR_AF=1.00;A...    .   \n",
      "2    7  16654  16655  LDAF=0.3636;AN=2184;AC=418;VT=SNP;AA=.;ERATE=0...    .   \n",
      "3    7  16718  16719  THETA=0.0164;RSQ=0.1774;AN=2184;VT=SNP;AA=.;SN...    .   \n",
      "4    7  17711  17712  AA=.;AC=51;AF=0.02;AFR_AF=0.0020;AMR_AF=0.03;A...    .   \n",
      "\n",
      "  junk2  \n",
      "0     +  \n",
      "1     +  \n",
      "2     +  \n",
      "3     +  \n",
      "4     +  \n"
     ]
    }
   ],
   "source": [
    "print(chr7_var.head())"
   ]
  },
  {
   "attachments": {},
   "cell_type": "markdown",
   "metadata": {},
   "source": [
    "retrieve protein-coding regions (CDS) only"
   ]
  },
  {
   "cell_type": "code",
   "execution_count": 40,
   "metadata": {},
   "outputs": [],
   "source": [
    "OPN1LW_CDS = OPN1LW_df[OPN1LW_df['region']=='CDS'].copy()\n",
    "OPN1MW_CDS = OPN1MW_df[OPN1MW_df['region']=='CDS'].copy()\n",
    "OPN1SW_CDS = OPN1SW_df[OPN1SW_df['region']=='CDS'].copy()"
   ]
  },
  {
   "cell_type": "code",
   "execution_count": 41,
   "metadata": {},
   "outputs": [
    {
     "name": "stdout",
     "output_type": "stream",
     "text": [
      "     chr    cons region      start       stop junk1 junk2 junk3  \\\n",
      "2   chrX  HAVANA    CDS  154144284  154144395     .     +     0   \n",
      "5   chrX  HAVANA    CDS  154150656  154150952     .     +     2   \n",
      "7   chrX  HAVANA    CDS  154152940  154153108     .     +     2   \n",
      "9   chrX  HAVANA    CDS  154154574  154154739     .     +     1   \n",
      "11  chrX  HAVANA    CDS  154156294  154156533     .     +     0   \n",
      "13  chrX  HAVANA    CDS  154158816  154158926     .     +     0   \n",
      "24  chrX  HAVANA    CDS  154152942  154153108     .     +     0   \n",
      "26  chrX  HAVANA    CDS  154154574  154154739     .     +     1   \n",
      "28  chrX  HAVANA    CDS  154156294  154156344     .     +     0   \n",
      "30  chrX  HAVANA    CDS  154158816  154158926     .     +     0   \n",
      "\n",
      "                                                   id  \n",
      "2   ID=CDS:ENST00000369951.9;Parent=ENST0000036995...  \n",
      "5   ID=CDS:ENST00000369951.9;Parent=ENST0000036995...  \n",
      "7   ID=CDS:ENST00000369951.9;Parent=ENST0000036995...  \n",
      "9   ID=CDS:ENST00000369951.9;Parent=ENST0000036995...  \n",
      "11  ID=CDS:ENST00000369951.9;Parent=ENST0000036995...  \n",
      "13  ID=CDS:ENST00000369951.9;Parent=ENST0000036995...  \n",
      "24  ID=CDS:ENST00000442922.1;Parent=ENST0000044292...  \n",
      "26  ID=CDS:ENST00000442922.1;Parent=ENST0000044292...  \n",
      "28  ID=CDS:ENST00000442922.1;Parent=ENST0000044292...  \n",
      "30  ID=CDS:ENST00000442922.1;Parent=ENST0000044292...  \n"
     ]
    }
   ],
   "source": [
    "print(OPN1LW_CDS)"
   ]
  },
  {
   "attachments": {},
   "cell_type": "markdown",
   "metadata": {},
   "source": [
    "retrieve the start and stop coordinates for each gene and load them to a list"
   ]
  },
  {
   "cell_type": "code",
   "execution_count": 42,
   "metadata": {},
   "outputs": [
    {
     "name": "stdout",
     "output_type": "stream",
     "text": [
      "[154144284, 154144395, 154150656, 154150952, 154152940, 154152942, 154153108, 154153108, 154154574, 154154574, 154154739, 154154739, 154156294, 154156294, 154156344, 154156533, 154158816, 154158816, 154158926, 154158926]\n"
     ]
    }
   ],
   "source": [
    "OPN1LW_starts = OPN1LW_CDS['start'].tolist()\n",
    "OPN1LW_stops = OPN1LW_CDS['stop'].tolist()\n",
    "OPN1LW_coords = OPN1LW_starts + OPN1LW_stops\n",
    "OPN1LW_coords.sort()\n",
    "print(OPN1LW_coords)"
   ]
  },
  {
   "cell_type": "code",
   "execution_count": 43,
   "metadata": {},
   "outputs": [
    {
     "name": "stdout",
     "output_type": "stream",
     "text": [
      "[154182678, 154182789, 154187770, 154188066, 154190054, 154190058, 154190222, 154190222, 154191688, 154191688, 154191853, 154191853, 154193408, 154193408, 154193458, 154193647, 154195930, 154195930, 154196040, 154196040, 154219816, 154219927, 154224908, 154225204, 154227192, 154227196, 154227360, 154227360, 154228828, 154228828, 154228993, 154228993, 154230548, 154230548, 154230598, 154230787, 154233070, 154233070, 154233180, 154233180, 154257620, 154257731, 154262712, 154263008, 154264996, 154265164, 154266632, 154266797, 154268352, 154268591, 154270874, 154270984]\n"
     ]
    }
   ],
   "source": [
    "OPN1MW_starts = OPN1MW_CDS['start'].tolist()\n",
    "OPN1MW_stops = OPN1MW_CDS['stop'].tolist()\n",
    "OPN1MW_coords = OPN1MW_starts + OPN1MW_stops\n",
    "OPN1MW_coords.sort()\n",
    "print(OPN1MW_coords)"
   ]
  },
  {
   "cell_type": "code",
   "execution_count": 44,
   "metadata": {},
   "outputs": [
    {
     "name": "stdout",
     "output_type": "stream",
     "text": [
      "[128772540, 128772659, 128773649, 128773888, 128774498, 128774663, 128774986, 128775154, 128775439, 128775781]\n"
     ]
    }
   ],
   "source": [
    "OPN1SW_starts = OPN1SW_CDS['start'].tolist()\n",
    "OPN1SW_stops = OPN1SW_CDS['stop'].tolist()\n",
    "OPN1SW_coords = OPN1SW_starts + OPN1SW_stops\n",
    "OPN1SW_coords.sort()\n",
    "print(OPN1SW_coords)"
   ]
  },
  {
   "cell_type": "markdown",
   "metadata": {},
   "source": [
    "read in the DNA sequence files"
   ]
  },
  {
   "cell_type": "code",
   "execution_count": 45,
   "metadata": {},
   "outputs": [],
   "source": [
    "with open(\"chr7.fa\", \"r\") as file1:\n",
    "    f1 = file1.read()\n",
    "chr7 = f1.replace(\"\\n\",\"\")\n",
    "\n",
    "with open(\"chrX.fa\", \"r\") as file2:\n",
    "    f2 = file2.read()\n",
    "chrX = f2.replace(\"\\n\",\"\")\n"
   ]
  },
  {
   "cell_type": "markdown",
   "metadata": {},
   "source": [
    "store the coordinates as start and stop values"
   ]
  },
  {
   "cell_type": "code",
   "execution_count": 46,
   "metadata": {},
   "outputs": [
    {
     "name": "stdout",
     "output_type": "stream",
     "text": [
      "1033\n"
     ]
    }
   ],
   "source": [
    "SW_seq = ''\n",
    "list_len = 0\n",
    "while list_len < len(OPN1SW_coords):\n",
    "\tstart = OPN1SW_coords[list_len]\n",
    "\tstop = OPN1SW_coords[list_len + 1]\n",
    "\tSW_seq += chr7[start:stop]\n",
    "\tlist_len += 2\n",
    "print(len(SW_seq))"
   ]
  },
  {
   "cell_type": "code",
   "execution_count": 47,
   "metadata": {},
   "outputs": [
    {
     "name": "stdout",
     "output_type": "stream",
     "text": [
      "598\n"
     ]
    }
   ],
   "source": [
    "LW_seq = ''\n",
    "list_len = 0\n",
    "while list_len < len(OPN1LW_coords):\n",
    "\tstart = OPN1LW_coords[list_len]\n",
    "\tstop = OPN1LW_coords[list_len + 1]\n",
    "\tLW_seq += chrX[start:stop]\n",
    "\tlist_len += 2\n",
    "print(len(LW_seq))"
   ]
  },
  {
   "cell_type": "code",
   "execution_count": 48,
   "metadata": {},
   "outputs": [
    {
     "name": "stdout",
     "output_type": "stream",
     "text": [
      "2289\n"
     ]
    }
   ],
   "source": [
    "MW_seq = ''\n",
    "list_len = 0\n",
    "while list_len < len(OPN1MW_coords):\n",
    "\tstart = OPN1MW_coords[list_len]\n",
    "\tstop = OPN1MW_coords[list_len + 1]\n",
    "\tMW_seq += chrX[start:stop]\n",
    "\tlist_len += 2\n",
    "print(len(MW_seq))"
   ]
  },
  {
   "cell_type": "markdown",
   "metadata": {},
   "source": [
    "transcribe to DNA to RNA"
   ]
  },
  {
   "cell_type": "code",
   "execution_count": 49,
   "metadata": {},
   "outputs": [],
   "source": [
    "LW_rna = \"\"\n",
    "for i in LW_seq:\n",
    "    if i == \"A\":\n",
    "        LW_rna += \"U\"\n",
    "    elif i == \"C\":\n",
    "        LW_rna += \"G\"\n",
    "    elif i == \"G\":\n",
    "        LW_rna += \"C\"\n",
    "    elif i == \"T\":\n",
    "        LW_rna += \"A\""
   ]
  },
  {
   "cell_type": "code",
   "execution_count": 50,
   "metadata": {},
   "outputs": [],
   "source": [
    "MW_rna = \"\"\n",
    "for i in MW_seq:\n",
    "    if i == \"A\":\n",
    "        MW_rna += \"U\"\n",
    "    elif i == \"C\":\n",
    "        MW_rna += \"G\"\n",
    "    elif i == \"G\":\n",
    "        MW_rna += \"C\"\n",
    "    elif i == \"T\":\n",
    "        MW_rna += \"A\""
   ]
  },
  {
   "cell_type": "code",
   "execution_count": 51,
   "metadata": {},
   "outputs": [],
   "source": [
    "SW_rna = \"\"\n",
    "for i in SW_seq:\n",
    "    if i == \"A\":\n",
    "        SW_rna += \"U\"\n",
    "    elif i == \"C\":\n",
    "        SW_rna += \"G\"\n",
    "    elif i == \"G\":\n",
    "        SW_rna += \"C\"\n",
    "    elif i == \"T\":\n",
    "        SW_rna += \"A\""
   ]
  },
  {
   "cell_type": "markdown",
   "metadata": {},
   "source": [
    "translate RNA to protein (dictionary was created by ChatGPT)"
   ]
  },
  {
   "cell_type": "code",
   "execution_count": 52,
   "metadata": {},
   "outputs": [],
   "source": [
    "def translate(rna):\n",
    "    table = {\n",
    "        'UUU': 'F', 'UUC': 'F', 'UUA': 'L', 'UUG': 'L',\n",
    "        'CUU': 'L', 'CUC': 'L', 'CUA': 'L', 'CUG': 'L',\n",
    "        'AUU': 'I', 'AUC': 'I', 'AUA': 'I', 'AUG': 'M',\n",
    "        'GUU': 'V', 'GUC': 'V', 'GUA': 'V', 'GUG': 'V',\n",
    "        'UCU': 'S', 'UCC': 'S', 'UCA': 'S', 'UCG': 'S',\n",
    "        'CCU': 'P', 'CCC': 'P', 'CCA': 'P', 'CCG': 'P',\n",
    "        'ACU': 'T', 'ACC': 'T', 'ACA': 'T', 'ACG': 'T',\n",
    "        'GCU': 'A', 'GCC': 'A', 'GCA': 'A', 'GCG': 'A',\n",
    "        'UAU': 'Y', 'UAC': 'Y', 'UAA': '*', 'UAG': '*',\n",
    "        'CAU': 'H', 'CAC': 'H', 'CAA': 'Q', 'CAG': 'Q',\n",
    "        'AAU': 'N', 'AAC': 'N', 'AAA': 'K', 'AAG': 'K',\n",
    "        'GAU': 'D', 'GAC': 'D', 'GAA': 'E', 'GAG': 'E',\n",
    "        'UGU': 'C', 'UGC': 'C', 'UGA': '*', 'UGG': 'W',\n",
    "        'CGU': 'R', 'CGC': 'R', 'CGA': 'R', 'CGG': 'R',\n",
    "        'AGU': 'S', 'AGC': 'S', 'AGA': 'R', 'AGG': 'R',\n",
    "        'GGU': 'G', 'GGC': 'G', 'GGA': 'G', 'GGG': 'G'\n",
    "    }\n",
    "    protein = []\n",
    "    for i in range(0, len(rna), 3):\n",
    "        codon = rna [i:i+3]\n",
    "        amino = table.get(codon, 'Unknown')\n",
    "        protein.append(amino)\n",
    "    return protein"
   ]
  },
  {
   "cell_type": "code",
   "execution_count": 53,
   "metadata": {},
   "outputs": [],
   "source": [
    "LW_proteins = translate(LW_rna)\n",
    "MW_proteins = translate(MW_rna)\n",
    "SW_proteins = translate(SW_rna)"
   ]
  },
  {
   "cell_type": "markdown",
   "metadata": {},
   "source": [
    "extract the rows from the variant files that have the same start coordinate as the ones identified as pathogenic in dbSNP"
   ]
  },
  {
   "cell_type": "code",
   "execution_count": 54,
   "metadata": {},
   "outputs": [
    {
     "name": "stdout",
     "output_type": "stream",
     "text": [
      "Empty DataFrame\n",
      "Columns: [chr, start, stop, freqs, junk, junk2]\n",
      "Index: []\n"
     ]
    }
   ],
   "source": [
    "LW_var_start = [154154734,154158844,154154602,154156440,154150812,154150897]\n",
    "\n",
    "LW_var = chrX_var[chrX_var['start'].isin(LW_var_start)]\n",
    "\n",
    "print(LW_var)"
   ]
  },
  {
   "cell_type": "code",
   "execution_count": 55,
   "metadata": {},
   "outputs": [
    {
     "name": "stdout",
     "output_type": "stream",
     "text": [
      "Empty DataFrame\n",
      "Columns: [chr, start, stop, freqs, junk, junk2]\n",
      "Index: []\n"
     ]
    }
   ],
   "source": [
    "MW_var_start = [154191716,154187939,154195934,154190173,154182566,154195934]\n",
    "\n",
    "MW_var = chrX_var[chrX_var['start'].isin(MW_var_start)]\n",
    "\n",
    "print(MW_var)"
   ]
  },
  {
   "cell_type": "code",
   "execution_count": 56,
   "metadata": {},
   "outputs": [
    {
     "name": "stdout",
     "output_type": "stream",
     "text": [
      "Empty DataFrame\n",
      "Columns: [chr, start, stop, freqs, junk, junk2]\n",
      "Index: []\n"
     ]
    }
   ],
   "source": [
    "SW_var_start = [128775556,128774545,128773786]\n",
    "\n",
    "SW_var = chr7_var[chr7_var['start'].isin(SW_var_start)]\n",
    "\n",
    "print(SW_var)"
   ]
  },
  {
   "cell_type": "markdown",
   "metadata": {},
   "source": [
    "pull in the overlapping variants after performing the bedtools intersection "
   ]
  },
  {
   "cell_type": "code",
   "execution_count": 57,
   "metadata": {},
   "outputs": [],
   "source": [
    "cds7var = pd.read_csv('cds7_overlapping_variants.txt', sep='\\t',header=0,names=['chrom','start','stop','stuff','else','else2'])\n",
    "cdsXvar = pd.read_csv('cdsX_overlapping_variants.txt', sep='\\t',header=0,names=['chrom','start','stop','stuff','else','else2'])"
   ]
  },
  {
   "cell_type": "markdown",
   "metadata": {},
   "source": [
    "now lets separate these based on the specific genes"
   ]
  },
  {
   "cell_type": "code",
   "execution_count": 58,
   "metadata": {},
   "outputs": [],
   "source": [
    "cdsLWvar = cdsXvar[(cdsXvar['start'] >= 154144243) & (cdsXvar['stop'] <= 154159032) & (cdsXvar['stuff'].str.contains('VT=SNP'))]\n",
    "cdsMWvar = cdsXvar[(cdsXvar['start'] >= 154182678) & (cdsXvar['stop'] <= 154196040)& (cdsXvar['stuff'].str.contains('VT=SNP'))]\n",
    "cdsSWvar = cds7var[(cds7var['start'] >= 128772540) & (cds7var['stop'] <= 128775781)& (cds7var['stuff'].str.contains('VT=SNP'))]"
   ]
  },
  {
   "cell_type": "markdown",
   "metadata": {},
   "source": [
    "parse for the population allelic frequencies (AF=)"
   ]
  },
  {
   "cell_type": "code",
   "execution_count": 59,
   "metadata": {},
   "outputs": [],
   "source": [
    "goLW = cdsLWvar['stuff'].tolist()\n",
    "goMW = cdsMWvar['stuff'].tolist()\n",
    "goSW = cdsSWvar['stuff'].tolist()"
   ]
  },
  {
   "cell_type": "code",
   "execution_count": 60,
   "metadata": {},
   "outputs": [
    {
     "name": "stdout",
     "output_type": "stream",
     "text": [
      "AA=G;AN=1659;AC=12;THETA=0.0005;VT=SNP;LDAF=0.0074;RSQ=0.9940;SNPSOURCE=LOWCOV;ERATE=0.0002;AVGPOST=0.9999;AF=0.01;AFR_AF=0.03\n"
     ]
    }
   ],
   "source": [
    "print(goLW[0])"
   ]
  },
  {
   "cell_type": "code",
   "execution_count": 61,
   "metadata": {},
   "outputs": [
    {
     "name": "stdout",
     "output_type": "stream",
     "text": [
      "['AA=G', 'AN=1659', 'AC=12', 'THETA=0.0005', 'VT=SNP', 'LDAF=0.0074', 'RSQ=0.9940', 'SNPSOURCE=LOWCOV', 'ERATE=0.0002', 'AVGPOST=0.9999', 'AF=0.01', 'AFR_AF=0.03']\n"
     ]
    }
   ],
   "source": [
    "newLW = [i.split(';') for i in goLW]\n",
    "newMW = [i.split(';') for i in goMW]\n",
    "newSW = [i.split(';') for i in goSW]\n",
    "\n",
    "print(newLW[0])"
   ]
  },
  {
   "cell_type": "code",
   "execution_count": 62,
   "metadata": {},
   "outputs": [
    {
     "name": "stdout",
     "output_type": "stream",
     "text": [
      "['AF=0.0012', 'AF=0.0006', 'AF=0.0006', 'AF=0.03', 'AF=0.0012', 'AF=0.0012', 'AF=0.0006', 'AF=0.01', 'AF=0.09', 'AF=0.01']\n"
     ]
    }
   ],
   "source": [
    "freqLW = []\n",
    "for line in newLW:\n",
    "    for item in line:\n",
    "        if item.startswith('AF='):\n",
    "            freqLW.append(item)\n",
    "\n",
    "freqMW = []\n",
    "for line in newMW:\n",
    "    for item in line:\n",
    "        if item.startswith('AF='):\n",
    "            freqMW.append(item)\n",
    "\n",
    "freqSW = []\n",
    "for line in newSW:\n",
    "    for item in line:\n",
    "        if item.startswith('AF='):\n",
    "            freqSW.append(item)\n",
    "\n",
    "print(freqMW)"
   ]
  },
  {
   "cell_type": "code",
   "execution_count": 63,
   "metadata": {},
   "outputs": [
    {
     "name": "stdout",
     "output_type": "stream",
     "text": [
      "<class 'float'>\n"
     ]
    }
   ],
   "source": [
    "freqLWnum = []\n",
    "for i in freqLW:\n",
    "    numsplitLW = i.split('=')\n",
    "    freqLWnum.append(numsplitLW[1])\n",
    "\n",
    "freqMWnum = []\n",
    "for i in freqMW:\n",
    "    numsplitMW = i.split('=')\n",
    "    freqMWnum.append(numsplitMW[1])\n",
    "\n",
    "freqSWnum = []\n",
    "for i in freqSW:\n",
    "    numsplitSW = i.split('=')\n",
    "    freqSWnum.append(numsplitSW[1])\n",
    "\n",
    "freqLWnum = [float(i) for i in freqLWnum]\n",
    "freqMWnum = [float(i) for i in freqMWnum]\n",
    "freqSWnum = [float(i) for i in freqSWnum]\n",
    "\n",
    "print(type(freqLWnum[0]))\n"
   ]
  },
  {
   "cell_type": "markdown",
   "metadata": {},
   "source": [
    "average the frequencies for each gene"
   ]
  },
  {
   "cell_type": "code",
   "execution_count": 64,
   "metadata": {},
   "outputs": [
    {
     "name": "stdout",
     "output_type": "stream",
     "text": [
      "0.00454\n",
      "0.014539999999999999\n",
      "0.09644\n"
     ]
    }
   ],
   "source": [
    "LWavg = mean(freqLWnum)\n",
    "MWavg = mean(freqMWnum)\n",
    "SWavg = mean(freqSWnum)\n",
    "\n",
    "print(LWavg)\n",
    "print(MWavg)\n",
    "print(SWavg)"
   ]
  },
  {
   "cell_type": "markdown",
   "metadata": {},
   "source": [
    "perform anova test to see if there is significant difference between average allelic frequencies of each gene (assume alpha = 0.05)"
   ]
  },
  {
   "cell_type": "code",
   "execution_count": 65,
   "metadata": {},
   "outputs": [
    {
     "name": "stdout",
     "output_type": "stream",
     "text": [
      "F_onewayResult(statistic=1.1698314064712758, pvalue=0.32334282635205275)\n"
     ]
    }
   ],
   "source": [
    "test = scipy.stats.f_oneway(freqLWnum,freqMWnum,freqSWnum)\n",
    "print(test)"
   ]
  },
  {
   "cell_type": "markdown",
   "metadata": {},
   "source": [
    "since p-val>0.05, the 3 means are not significantly different"
   ]
  }
 ],
 "metadata": {
  "kernelspec": {
   "display_name": "Python 3",
   "language": "python",
   "name": "python3"
  },
  "language_info": {
   "codemirror_mode": {
    "name": "ipython",
    "version": 3
   },
   "file_extension": ".py",
   "mimetype": "text/x-python",
   "name": "python",
   "nbconvert_exporter": "python",
   "pygments_lexer": "ipython3",
   "version": "3.11.1"
  },
  "orig_nbformat": 4
 },
 "nbformat": 4,
 "nbformat_minor": 2
}
