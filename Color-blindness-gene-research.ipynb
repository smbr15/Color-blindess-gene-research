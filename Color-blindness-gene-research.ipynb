{
 "cells": [
  {
   "cell_type": "markdown",
   "metadata": {},
   "source": [
    "import pandas, statistics, and scipy.stats, then read in the annotation files"
   ]
  },
  {
   "cell_type": "code",
   "execution_count": 2,
   "metadata": {},
   "outputs": [],
   "source": [
    "import pandas as pd\n",
    "import numpy as np\n",
    "from statistics import mean\n",
    "import scipy.stats \n",
    "import matplotlib.pyplot as plt"
   ]
  },
  {
   "cell_type": "code",
   "execution_count": 3,
   "metadata": {},
   "outputs": [],
   "source": [
    "OPN1LW_df = pd.read_csv('OPN1LW_annotations.txt', sep='\\t', header = 0, names = ['chr','cons','region','start','stop','junk1','junk2','junk3','id'])\n",
    "OPN1MW_df = pd.read_csv('OPN1MW_annotations.txt', sep='\\t', header = 0, names = ['chr','cons','region','start','stop','junk1','junk2','junk3','id'])\n",
    "OPN1SW_df = pd.read_csv('OPN1SW_annotations.txt', sep='\\t', header = 0, names = ['chr','cons','region','start','stop','junk1','junk2','junk3','id'])\n",
    "\n",
    "chr7_var = pd.read_csv('chr7_variants.txt',sep='\\t',header=0,names=['chr','start','stop','freqs','junk','junk2'])\n",
    "chrX_var = pd.read_csv('chrX_variants.txt',sep='\\t',header=0,names=['chr','start','stop','freqs','junk','junk2'])"
   ]
  },
  {
   "attachments": {},
   "cell_type": "markdown",
   "metadata": {},
   "source": [
    "take a look at the data contained in the annotation files"
   ]
  },
  {
   "cell_type": "code",
   "execution_count": 4,
   "metadata": {},
   "outputs": [
    {
     "name": "stdout",
     "output_type": "stream",
     "text": [
      "   chr  start   stop                                              freqs junk  \\\n",
      "0    7  16486  16487  ERATE=0.0118;LDAF=0.8149;AN=2184;AC=1968;VT=SN...    .   \n",
      "1    7  16510  16511  AA=.;AC=2155;AF=0.99;AFR_AF=0.95;AMR_AF=1.00;A...    .   \n",
      "2    7  16654  16655  LDAF=0.3636;AN=2184;AC=418;VT=SNP;AA=.;ERATE=0...    .   \n",
      "3    7  16718  16719  THETA=0.0164;RSQ=0.1774;AN=2184;VT=SNP;AA=.;SN...    .   \n",
      "4    7  17711  17712  AA=.;AC=51;AF=0.02;AFR_AF=0.0020;AMR_AF=0.03;A...    .   \n",
      "\n",
      "  junk2  \n",
      "0     +  \n",
      "1     +  \n",
      "2     +  \n",
      "3     +  \n",
      "4     +  \n"
     ]
    }
   ],
   "source": [
    "print(chr7_var.head())"
   ]
  },
  {
   "attachments": {},
   "cell_type": "markdown",
   "metadata": {},
   "source": [
    "retrieve protein-coding regions (CDS) only"
   ]
  },
  {
   "cell_type": "code",
   "execution_count": 5,
   "metadata": {},
   "outputs": [],
   "source": [
    "OPN1LW_CDS = OPN1LW_df[OPN1LW_df['region']=='CDS'].copy()\n",
    "OPN1MW_CDS = OPN1MW_df[OPN1MW_df['region']=='CDS'].copy()\n",
    "OPN1SW_CDS = OPN1SW_df[OPN1SW_df['region']=='CDS'].copy()"
   ]
  },
  {
   "cell_type": "code",
   "execution_count": 6,
   "metadata": {},
   "outputs": [
    {
     "name": "stdout",
     "output_type": "stream",
     "text": [
      "2     ID=CDS:ENST00000369951.9;Parent=ENST0000036995...\n",
      "5     ID=CDS:ENST00000369951.9;Parent=ENST0000036995...\n",
      "7     ID=CDS:ENST00000369951.9;Parent=ENST0000036995...\n",
      "9     ID=CDS:ENST00000369951.9;Parent=ENST0000036995...\n",
      "11    ID=CDS:ENST00000369951.9;Parent=ENST0000036995...\n",
      "13    ID=CDS:ENST00000369951.9;Parent=ENST0000036995...\n",
      "24    ID=CDS:ENST00000442922.1;Parent=ENST0000044292...\n",
      "26    ID=CDS:ENST00000442922.1;Parent=ENST0000044292...\n",
      "28    ID=CDS:ENST00000442922.1;Parent=ENST0000044292...\n",
      "30    ID=CDS:ENST00000442922.1;Parent=ENST0000044292...\n",
      "Name: id, dtype: object\n"
     ]
    }
   ],
   "source": [
    "print(OPN1LW_CDS['id'])"
   ]
  },
  {
   "attachments": {},
   "cell_type": "markdown",
   "metadata": {},
   "source": [
    "retrieve the start and stop coordinates for each gene and load them to a list"
   ]
  },
  {
   "cell_type": "code",
   "execution_count": 7,
   "metadata": {},
   "outputs": [
    {
     "name": "stdout",
     "output_type": "stream",
     "text": [
      "[154144284, 154144395, 154150656, 154150952, 154152940, 154152942, 154153108, 154153108, 154154574, 154154574, 154154739, 154154739, 154156294, 154156294, 154156344, 154156533, 154158816, 154158816, 154158926, 154158926]\n"
     ]
    }
   ],
   "source": [
    "OPN1LW_starts = OPN1LW_CDS['start'].tolist()\n",
    "OPN1LW_stops = OPN1LW_CDS['stop'].tolist()\n",
    "OPN1LW_coords = OPN1LW_starts + OPN1LW_stops\n",
    "OPN1LW_coords.sort()\n",
    "print(OPN1LW_coords)"
   ]
  },
  {
   "cell_type": "code",
   "execution_count": 8,
   "metadata": {},
   "outputs": [
    {
     "name": "stdout",
     "output_type": "stream",
     "text": [
      "[154182678, 154182789, 154187770, 154188066, 154190054, 154190058, 154190222, 154190222, 154191688, 154191688, 154191853, 154191853, 154193408, 154193408, 154193458, 154193647, 154195930, 154195930, 154196040, 154196040, 154219816, 154219927, 154224908, 154225204, 154227192, 154227196, 154227360, 154227360, 154228828, 154228828, 154228993, 154228993, 154230548, 154230548, 154230598, 154230787, 154233070, 154233070, 154233180, 154233180, 154257620, 154257731, 154262712, 154263008, 154264996, 154265164, 154266632, 154266797, 154268352, 154268591, 154270874, 154270984]\n"
     ]
    }
   ],
   "source": [
    "OPN1MW_starts = OPN1MW_CDS['start'].tolist()\n",
    "OPN1MW_stops = OPN1MW_CDS['stop'].tolist()\n",
    "OPN1MW_coords = OPN1MW_starts + OPN1MW_stops\n",
    "OPN1MW_coords.sort()\n",
    "print(OPN1MW_coords)"
   ]
  },
  {
   "cell_type": "code",
   "execution_count": 9,
   "metadata": {},
   "outputs": [
    {
     "name": "stdout",
     "output_type": "stream",
     "text": [
      "[128772540, 128772659, 128773649, 128773888, 128774498, 128774663, 128774986, 128775154, 128775439, 128775781]\n"
     ]
    }
   ],
   "source": [
    "OPN1SW_starts = OPN1SW_CDS['start'].tolist()\n",
    "OPN1SW_stops = OPN1SW_CDS['stop'].tolist()\n",
    "OPN1SW_coords = OPN1SW_starts + OPN1SW_stops\n",
    "OPN1SW_coords.sort()\n",
    "print(OPN1SW_coords)"
   ]
  },
  {
   "cell_type": "markdown",
   "metadata": {},
   "source": [
    "read in the DNA sequence files"
   ]
  },
  {
   "cell_type": "code",
   "execution_count": 10,
   "metadata": {},
   "outputs": [],
   "source": [
    "with open(\"chr7.fa\", \"r\") as file1:\n",
    "    f1 = file1.read()\n",
    "chr7 = f1.replace(\"\\n\",\"\")\n",
    "\n",
    "with open(\"chrX.fa\", \"r\") as file2:\n",
    "    f2 = file2.read()\n",
    "chrX = f2.replace(\"\\n\",\"\")"
   ]
  },
  {
   "cell_type": "markdown",
   "metadata": {},
   "source": [
    "store the coordinates as start and stop values"
   ]
  },
  {
   "cell_type": "code",
   "execution_count": 11,
   "metadata": {},
   "outputs": [
    {
     "name": "stdout",
     "output_type": "stream",
     "text": [
      "1033\n"
     ]
    }
   ],
   "source": [
    "SW_seq = ''\n",
    "list_len = 0\n",
    "while list_len < len(OPN1SW_coords):\n",
    "\tstart = OPN1SW_coords[list_len]\n",
    "\tstop = OPN1SW_coords[list_len + 1]\n",
    "\tSW_seq += chr7[start:stop]\n",
    "\tlist_len += 2\n",
    "print(len(SW_seq))"
   ]
  },
  {
   "cell_type": "code",
   "execution_count": 12,
   "metadata": {},
   "outputs": [
    {
     "name": "stdout",
     "output_type": "stream",
     "text": [
      "598\n"
     ]
    }
   ],
   "source": [
    "LW_seq = ''\n",
    "list_len = 0\n",
    "while list_len < len(OPN1LW_coords):\n",
    "\tstart = OPN1LW_coords[list_len]\n",
    "\tstop = OPN1LW_coords[list_len + 1]\n",
    "\tLW_seq += chrX[start:stop]\n",
    "\tlist_len += 2\n",
    "print(len(LW_seq))"
   ]
  },
  {
   "cell_type": "code",
   "execution_count": 13,
   "metadata": {},
   "outputs": [
    {
     "name": "stdout",
     "output_type": "stream",
     "text": [
      "2289\n"
     ]
    }
   ],
   "source": [
    "MW_seq = ''\n",
    "list_len = 0\n",
    "while list_len < len(OPN1MW_coords):\n",
    "\tstart = OPN1MW_coords[list_len]\n",
    "\tstop = OPN1MW_coords[list_len + 1]\n",
    "\tMW_seq += chrX[start:stop]\n",
    "\tlist_len += 2\n",
    "print(len(MW_seq))"
   ]
  },
  {
   "cell_type": "markdown",
   "metadata": {},
   "source": [
    "transcribe to DNA to RNA"
   ]
  },
  {
   "cell_type": "code",
   "execution_count": 14,
   "metadata": {},
   "outputs": [],
   "source": [
    "LW_rna = \"\"\n",
    "for i in LW_seq:\n",
    "    if i == \"A\":\n",
    "        LW_rna += \"U\"\n",
    "    elif i == \"C\":\n",
    "        LW_rna += \"G\"\n",
    "    elif i == \"G\":\n",
    "        LW_rna += \"C\"\n",
    "    elif i == \"T\":\n",
    "        LW_rna += \"A\""
   ]
  },
  {
   "cell_type": "code",
   "execution_count": 15,
   "metadata": {},
   "outputs": [],
   "source": [
    "MW_rna = \"\"\n",
    "for i in MW_seq:\n",
    "    if i == \"A\":\n",
    "        MW_rna += \"U\"\n",
    "    elif i == \"C\":\n",
    "        MW_rna += \"G\"\n",
    "    elif i == \"G\":\n",
    "        MW_rna += \"C\"\n",
    "    elif i == \"T\":\n",
    "        MW_rna += \"A\""
   ]
  },
  {
   "cell_type": "code",
   "execution_count": 16,
   "metadata": {},
   "outputs": [],
   "source": [
    "SW_rna = \"\"\n",
    "for i in SW_seq:\n",
    "    if i == \"A\":\n",
    "        SW_rna += \"U\"\n",
    "    elif i == \"C\":\n",
    "        SW_rna += \"G\"\n",
    "    elif i == \"G\":\n",
    "        SW_rna += \"C\"\n",
    "    elif i == \"T\":\n",
    "        SW_rna += \"A\""
   ]
  },
  {
   "cell_type": "markdown",
   "metadata": {},
   "source": [
    "translate RNA to protein (dictionary was created by ChatGPT)"
   ]
  },
  {
   "cell_type": "code",
   "execution_count": 17,
   "metadata": {},
   "outputs": [],
   "source": [
    "def translate(rna):\n",
    "    table = {\n",
    "        'UUU': 'F', 'UUC': 'F', 'UUA': 'L', 'UUG': 'L',\n",
    "        'CUU': 'L', 'CUC': 'L', 'CUA': 'L', 'CUG': 'L',\n",
    "        'AUU': 'I', 'AUC': 'I', 'AUA': 'I', 'AUG': 'M',\n",
    "        'GUU': 'V', 'GUC': 'V', 'GUA': 'V', 'GUG': 'V',\n",
    "        'UCU': 'S', 'UCC': 'S', 'UCA': 'S', 'UCG': 'S',\n",
    "        'CCU': 'P', 'CCC': 'P', 'CCA': 'P', 'CCG': 'P',\n",
    "        'ACU': 'T', 'ACC': 'T', 'ACA': 'T', 'ACG': 'T',\n",
    "        'GCU': 'A', 'GCC': 'A', 'GCA': 'A', 'GCG': 'A',\n",
    "        'UAU': 'Y', 'UAC': 'Y', 'UAA': '*', 'UAG': '*',\n",
    "        'CAU': 'H', 'CAC': 'H', 'CAA': 'Q', 'CAG': 'Q',\n",
    "        'AAU': 'N', 'AAC': 'N', 'AAA': 'K', 'AAG': 'K',\n",
    "        'GAU': 'D', 'GAC': 'D', 'GAA': 'E', 'GAG': 'E',\n",
    "        'UGU': 'C', 'UGC': 'C', 'UGA': '*', 'UGG': 'W',\n",
    "        'CGU': 'R', 'CGC': 'R', 'CGA': 'R', 'CGG': 'R',\n",
    "        'AGU': 'S', 'AGC': 'S', 'AGA': 'R', 'AGG': 'R',\n",
    "        'GGU': 'G', 'GGC': 'G', 'GGA': 'G', 'GGG': 'G'\n",
    "    }\n",
    "    protein = []\n",
    "    for i in range(0, len(rna), 3):\n",
    "        codon = rna [i:i+3]\n",
    "        amino = table.get(codon, 'Unknown')\n",
    "        protein.append(amino)\n",
    "    return protein"
   ]
  },
  {
   "cell_type": "code",
   "execution_count": 18,
   "metadata": {},
   "outputs": [],
   "source": [
    "LW_proteins = translate(LW_rna)\n",
    "MW_proteins = translate(MW_rna)\n",
    "SW_proteins = translate(SW_rna)"
   ]
  },
  {
   "cell_type": "markdown",
   "metadata": {},
   "source": [
    "extract the rows from the variant files that have the same start coordinate as the ones identified as pathogenic in dbSNP"
   ]
  },
  {
   "cell_type": "code",
   "execution_count": 91,
   "metadata": {},
   "outputs": [],
   "source": [
    "LW_var_start = [154154734,154158844,154154602,154156440,154150812,154150897]\n",
    "\n",
    "LW_var = chrX_var[chrX_var['start'].isin(LW_var_start)]"
   ]
  },
  {
   "cell_type": "code",
   "execution_count": 90,
   "metadata": {},
   "outputs": [],
   "source": [
    "MW_var_start = [154191716,154187939,154195934,154190173,154182566,154195934]\n",
    "\n",
    "MW_var = chrX_var[chrX_var['start'].isin(MW_var_start)]"
   ]
  },
  {
   "cell_type": "code",
   "execution_count": 89,
   "metadata": {},
   "outputs": [],
   "source": [
    "SW_var_start = [128775556,128774545,128773786]\n",
    "\n",
    "SW_var = chr7_var[chr7_var['start'].isin(SW_var_start)]"
   ]
  },
  {
   "cell_type": "markdown",
   "metadata": {},
   "source": [
    "there were not any pathogenic SNPs, so no further separation is needed"
   ]
  },
  {
   "cell_type": "markdown",
   "metadata": {},
   "source": [
    "pull in the overlapping variants after performing the bedtools intersection "
   ]
  },
  {
   "cell_type": "code",
   "execution_count": 22,
   "metadata": {},
   "outputs": [],
   "source": [
    "cds7var = pd.read_csv('cds7_overlapping_variants.txt', sep='\\t',header=0,names=['chrom','start','stop','stuff','else','else2'])\n",
    "cdsXvar = pd.read_csv('cdsX_overlapping_variants.txt', sep='\\t',header=0,names=['chrom','start','stop','stuff','else','else2'])"
   ]
  },
  {
   "cell_type": "markdown",
   "metadata": {},
   "source": [
    "now lets separate these based on the specific genes"
   ]
  },
  {
   "cell_type": "code",
   "execution_count": 23,
   "metadata": {},
   "outputs": [],
   "source": [
    "cdsLWvar = cdsXvar[(cdsXvar['start'] >= 154144243) & (cdsXvar['stop'] <= 154159032) & (cdsXvar['stuff'].str.contains('VT=SNP'))]\n",
    "cdsMWvar = cdsXvar[(cdsXvar['start'] >= 154182678) & (cdsXvar['stop'] <= 154196040)& (cdsXvar['stuff'].str.contains('VT=SNP'))]\n",
    "cdsSWvar = cds7var[(cds7var['start'] >= 128772540) & (cds7var['stop'] <= 128775781)& (cds7var['stuff'].str.contains('VT=SNP'))]"
   ]
  },
  {
   "cell_type": "markdown",
   "metadata": {},
   "source": [
    "parse for the population allelic frequencies (AF=)"
   ]
  },
  {
   "cell_type": "code",
   "execution_count": 24,
   "metadata": {},
   "outputs": [],
   "source": [
    "goLW = cdsLWvar['stuff'].tolist()\n",
    "goMW = cdsMWvar['stuff'].tolist()\n",
    "goSW = cdsSWvar['stuff'].tolist()"
   ]
  },
  {
   "cell_type": "code",
   "execution_count": 88,
   "metadata": {},
   "outputs": [],
   "source": [
    "newLW = [i.split(';') for i in goLW]\n",
    "newMW = [i.split(';') for i in goMW]\n",
    "newSW = [i.split(';') for i in goSW]"
   ]
  },
  {
   "cell_type": "code",
   "execution_count": 87,
   "metadata": {},
   "outputs": [],
   "source": [
    "freqLW = []\n",
    "for line in newLW:\n",
    "    for item in line:\n",
    "        if item.startswith('AF='):\n",
    "            freqLW.append(item)\n",
    "\n",
    "freqMW = []\n",
    "for line in newMW:\n",
    "    for item in line:\n",
    "        if item.startswith('AF='):\n",
    "            freqMW.append(item)\n",
    "\n",
    "freqSW = []\n",
    "for line in newSW:\n",
    "    for item in line:\n",
    "        if item.startswith('AF='):\n",
    "            freqSW.append(item)"
   ]
  },
  {
   "cell_type": "code",
   "execution_count": 86,
   "metadata": {},
   "outputs": [],
   "source": [
    "freqLWnum = []\n",
    "for i in freqLW:\n",
    "    numsplitLW = i.split('=')\n",
    "    freqLWnum.append(numsplitLW[1])\n",
    "\n",
    "freqMWnum = []\n",
    "for i in freqMW:\n",
    "    numsplitMW = i.split('=')\n",
    "    freqMWnum.append(numsplitMW[1])\n",
    "\n",
    "freqSWnum = []\n",
    "for i in freqSW:\n",
    "    numsplitSW = i.split('=')\n",
    "    freqSWnum.append(numsplitSW[1])\n",
    "\n",
    "freqLWnum = [float(i) for i in freqLWnum]\n",
    "freqMWnum = [float(i) for i in freqMWnum]\n",
    "freqSWnum = [float(i) for i in freqSWnum]"
   ]
  },
  {
   "cell_type": "markdown",
   "metadata": {},
   "source": [
    "average the frequencies for each gene"
   ]
  },
  {
   "cell_type": "code",
   "execution_count": 29,
   "metadata": {},
   "outputs": [
    {
     "name": "stdout",
     "output_type": "stream",
     "text": [
      "0.00454\n",
      "0.014539999999999999\n",
      "0.09644\n"
     ]
    }
   ],
   "source": [
    "LWavg = mean(freqLWnum)\n",
    "MWavg = mean(freqMWnum)\n",
    "SWavg = mean(freqSWnum)\n",
    "\n",
    "print(LWavg)\n",
    "print(MWavg)\n",
    "print(SWavg)"
   ]
  },
  {
   "cell_type": "code",
   "execution_count": 51,
   "metadata": {},
   "outputs": [
    {
     "data": {
      "text/plain": [
       "Text(0.5, 0, 'Gene')"
      ]
     },
     "execution_count": 51,
     "metadata": {},
     "output_type": "execute_result"
    },
    {
     "data": {
      "image/png": "[encoded data removed]",
      "text/plain": [
       "<Figure size 640x480 with 1 Axes>"
      ]
     },
     "metadata": {},
     "output_type": "display_data"
    }
   ],
   "source": [
    "freq_data = [freqLWnum,freqMWnum,freqSWnum]\n",
    "\n",
    "plt.boxplot(freq_data,labels=('OPN1LW','OPN1MW','OPN1SW'))\n",
    "plt.title('Non-Pathogenic SNPs Average Allelic Frequencies')\n",
    "plt.ylabel('Average Allelic Frequency')\n",
    "plt.xlabel('Gene')"
   ]
  },
  {
   "cell_type": "markdown",
   "metadata": {},
   "source": [
    "perform anova test to see if there is significant difference between average allelic frequencies of each gene (assume alpha = 0.05)"
   ]
  },
  {
   "cell_type": "code",
   "execution_count": 31,
   "metadata": {},
   "outputs": [
    {
     "name": "stdout",
     "output_type": "stream",
     "text": [
      "F_onewayResult(statistic=1.1698314064712758, pvalue=0.32334282635205275)\n"
     ]
    }
   ],
   "source": [
    "test = scipy.stats.f_oneway(freqLWnum,freqMWnum,freqSWnum)\n",
    "print(test)"
   ]
  },
  {
   "cell_type": "markdown",
   "metadata": {},
   "source": [
    "since p-val>0.05, the 3 means are not significantly different"
   ]
  },
  {
   "cell_type": "markdown",
   "metadata": {},
   "source": [
    "Read in files for gene expression analysis"
   ]
  },
  {
   "cell_type": "code",
   "execution_count": 32,
   "metadata": {},
   "outputs": [
    {
     "name": "stdout",
     "output_type": "stream",
     "text": [
      "    Sample Family ID Population           Population Description  Gender  \\\n",
      "0  HG00096   HG00096        GBR  British in England and Scotland    male   \n",
      "1  HG00097   HG00097        GBR  British in England and Scotland  female   \n",
      "2  HG00098   HG00098        GBR  British in England and Scotland    male   \n",
      "3  HG00099   HG00099        GBR  British in England and Scotland  female   \n",
      "4  HG00100   HG00100        GBR  British in England and Scotland  female   \n",
      "\n",
      "  Relationship Unexpected Parent/Child  Non Paternity Siblings Grandparents  \\\n",
      "0          NaN                      NaN           NaN      NaN          NaN   \n",
      "1          NaN                      NaN           NaN      NaN          NaN   \n",
      "2          NaN                      NaN           NaN      NaN          NaN   \n",
      "3          NaN                      NaN           NaN      NaN          NaN   \n",
      "4          NaN                      NaN           NaN      NaN          NaN   \n",
      "\n",
      "  Avuncular Half Siblings Unknown Second Order Third Order  Other Comments  \n",
      "0       NaN           NaN                  NaN         NaN             NaN  \n",
      "1       NaN           NaN                  NaN         NaN             NaN  \n",
      "2       NaN           NaN                  NaN         NaN             NaN  \n",
      "3       NaN           NaN                  NaN         NaN             NaN  \n",
      "4       NaN           NaN                  NaN         NaN             NaN  \n"
     ]
    }
   ],
   "source": [
    "df1 = pd.read_csv(\"E-GEUV-1-query-results.fpkms.tsv\",header=4,sep='\\t')\n",
    "df2 = pd.read_excel('just_sample_info.xlsx',header=0)\n",
    "\n",
    "print(df2.head())"
   ]
  },
  {
   "cell_type": "markdown",
   "metadata": {},
   "source": [
    "separate populations into different dataframes"
   ]
  },
  {
   "cell_type": "code",
   "execution_count": 33,
   "metadata": {},
   "outputs": [],
   "source": [
    "def col_move(df, keyword):\n",
    "    df_new = pd.DataFrame()\n",
    "    move = [col for col in df.columns if keyword in col]\n",
    "    move.insert(0,df.columns[1])\n",
    "    df_new = df[move].copy()\n",
    "\n",
    "    return df_new\n",
    "\n",
    "brit = col_move(df1,'British')\n",
    "finl = col_move(df1,'Finland')\n",
    "tusc = col_move(df1,'Tuscan')\n",
    "utah = col_move(df1,'Utah')\n",
    "yoru = col_move(df1,'Yoruba')\n"
   ]
  },
  {
   "cell_type": "markdown",
   "metadata": {},
   "source": [
    "separate the patients ids so they be joined on the population sample info file"
   ]
  },
  {
   "cell_type": "code",
   "execution_count": 85,
   "metadata": {},
   "outputs": [],
   "source": [
    "def cleanup(df, substring):\n",
    "    df.columns = df.columns.str.replace(substring, '')\n",
    "    return df\n",
    "\n",
    "brit_clean = cleanup(brit,'British, ')\n",
    "finl_clean = cleanup(finl, 'Finland, ')\n",
    "tusc_clean = cleanup(tusc, 'Tuscan, ')\n",
    "utah_clean = cleanup(utah, 'Utah, ')\n",
    "yoru_clean = cleanup(yoru, 'Yoruba, ')"
   ]
  },
  {
   "cell_type": "code",
   "execution_count": 79,
   "metadata": {},
   "outputs": [],
   "source": [
    "brit_clean1 = brit_clean[(brit_clean['Gene Name']=='OPN1LW') | (brit_clean['Gene Name']=='OPN1MW') | (brit_clean['Gene Name']=='OPN1SW')]\n",
    "finl_clean1 = finl_clean[(finl_clean['Gene Name']=='OPN1LW') | (finl_clean['Gene Name']=='OPN1MW') | (finl_clean['Gene Name']=='OPN1SW')]\n",
    "tusc_clean1 = tusc_clean[(tusc_clean['Gene Name']=='OPN1LW') | (tusc_clean['Gene Name']=='OPN1MW') | (tusc_clean['Gene Name']=='OPN1SW')]\n",
    "utah_clean1 = utah_clean[(utah_clean['Gene Name']=='OPN1LW') | (utah_clean['Gene Name']=='OPN1MW') | (utah_clean['Gene Name']=='OPN1SW')]\n",
    "yoru_clean1 = yoru_clean[(yoru_clean['Gene Name']=='OPN1LW') | (yoru_clean['Gene Name']=='OPN1MW') | (yoru_clean['Gene Name']=='OPN1SW')]"
   ]
  },
  {
   "cell_type": "markdown",
   "metadata": {},
   "source": [
    "calculate the averages for each gene (swap in each population)"
   ]
  },
  {
   "cell_type": "code",
   "execution_count": 80,
   "metadata": {},
   "outputs": [
    {
     "name": "stdout",
     "output_type": "stream",
     "text": [
      "     Gene Name       Avg\n",
      "5923    OPN1SW  1.175532\n",
      "2563    OPN1LW       NaN\n"
     ]
    },
    {
     "name": "stderr",
     "output_type": "stream",
     "text": [
      "C:\\Users\\sabri\\AppData\\Local\\Temp\\ipykernel_33408\\2550389465.py:3: FutureWarning: Dropping of nuisance columns in DataFrame reductions (with 'numeric_only=None') is deprecated; in a future version this will raise TypeError.  Select only valid columns before calling the reduction.\n",
      "  avg_B['Avg'] = avg_B.mean(axis=1)\n"
     ]
    }
   ],
   "source": [
    "avg_B = brit_clean1.copy()\n",
    "\n",
    "avg_B['Avg'] = avg_B.mean(axis=1)\n",
    "check = avg_B.iloc[:,[0,95]]\n",
    "\n",
    "sorted = check.sort_values(by='Avg',ascending=False)\n",
    "\n",
    "print(sorted.head())"
   ]
  },
  {
   "cell_type": "code",
   "execution_count": 81,
   "metadata": {},
   "outputs": [
    {
     "name": "stdout",
     "output_type": "stream",
     "text": [
      "     Gene Name       Avg\n",
      "5923    OPN1SW  1.269892\n",
      "2563    OPN1LW       NaN\n"
     ]
    },
    {
     "name": "stderr",
     "output_type": "stream",
     "text": [
      "C:\\Users\\sabri\\AppData\\Local\\Temp\\ipykernel_33408\\165109947.py:3: FutureWarning: Dropping of nuisance columns in DataFrame reductions (with 'numeric_only=None') is deprecated; in a future version this will raise TypeError.  Select only valid columns before calling the reduction.\n",
      "  avg_T['Avg'] = avg_T.mean(axis=1)\n"
     ]
    }
   ],
   "source": [
    "avg_T = tusc_clean1.copy()\n",
    "\n",
    "avg_T['Avg'] = avg_T.mean(axis=1)\n",
    "check = avg_T.iloc[:,[0,94]]\n",
    "\n",
    "sorted = check.sort_values(by='Avg',ascending=False)\n",
    "\n",
    "print(sorted.head())"
   ]
  },
  {
   "cell_type": "code",
   "execution_count": 82,
   "metadata": {},
   "outputs": [
    {
     "name": "stdout",
     "output_type": "stream",
     "text": [
      "     Gene Name       Avg\n",
      "5923    OPN1SW  1.281053\n",
      "2563    OPN1LW       NaN\n"
     ]
    },
    {
     "name": "stderr",
     "output_type": "stream",
     "text": [
      "C:\\Users\\sabri\\AppData\\Local\\Temp\\ipykernel_33408\\2790784233.py:3: FutureWarning: Dropping of nuisance columns in DataFrame reductions (with 'numeric_only=None') is deprecated; in a future version this will raise TypeError.  Select only valid columns before calling the reduction.\n",
      "  avg_F['Avg'] = avg_F.mean(axis=1)\n"
     ]
    }
   ],
   "source": [
    "avg_F = finl_clean1.copy()\n",
    "\n",
    "avg_F['Avg'] = avg_F.mean(axis=1)\n",
    "check = avg_F.iloc[:,[0,96]]\n",
    "\n",
    "sorted = check.sort_values(by='Avg',ascending=False)\n",
    "\n",
    "print(sorted.head())"
   ]
  },
  {
   "cell_type": "code",
   "execution_count": 83,
   "metadata": {},
   "outputs": [
    {
     "name": "stdout",
     "output_type": "stream",
     "text": [
      "     Gene Name       Avg\n",
      "5923    OPN1SW  1.058242\n",
      "2563    OPN1LW  0.100000\n"
     ]
    },
    {
     "name": "stderr",
     "output_type": "stream",
     "text": [
      "C:\\Users\\sabri\\AppData\\Local\\Temp\\ipykernel_33408\\176907036.py:3: FutureWarning: Dropping of nuisance columns in DataFrame reductions (with 'numeric_only=None') is deprecated; in a future version this will raise TypeError.  Select only valid columns before calling the reduction.\n",
      "  avg_U['Avg'] = avg_U.mean(axis=1)\n"
     ]
    }
   ],
   "source": [
    "avg_U = utah_clean1.copy()\n",
    "\n",
    "avg_U['Avg'] = avg_U.mean(axis=1)\n",
    "check = avg_U.iloc[:,[0,92]]\n",
    "\n",
    "sorted = check.sort_values(by='Avg',ascending=False)\n",
    "\n",
    "print(sorted.head())"
   ]
  },
  {
   "cell_type": "code",
   "execution_count": 84,
   "metadata": {},
   "outputs": [
    {
     "name": "stdout",
     "output_type": "stream",
     "text": [
      "     Gene Name       Avg\n",
      "5923    OPN1SW  0.710112\n",
      "2563    OPN1LW       NaN\n"
     ]
    },
    {
     "name": "stderr",
     "output_type": "stream",
     "text": [
      "C:\\Users\\sabri\\AppData\\Local\\Temp\\ipykernel_33408\\1237919282.py:3: FutureWarning: Dropping of nuisance columns in DataFrame reductions (with 'numeric_only=None') is deprecated; in a future version this will raise TypeError.  Select only valid columns before calling the reduction.\n",
      "  avg_Y['Avg'] = avg_Y.mean(axis=1)\n"
     ]
    }
   ],
   "source": [
    "avg_Y = yoru_clean1.copy()\n",
    "\n",
    "avg_Y['Avg'] = avg_Y.mean(axis=1)\n",
    "check = avg_Y.iloc[:,[0,90]]\n",
    "\n",
    "sorted = check.sort_values(by='Avg',ascending=False)\n",
    "\n",
    "print(sorted.head())"
   ]
  },
  {
   "cell_type": "code",
   "execution_count": 71,
   "metadata": {},
   "outputs": [
    {
     "name": "stdout",
     "output_type": "stream",
     "text": [
      "[1.0 1.0 1.0 1.0 1.0 2.0 3.0 2.0 1.0 1.0 2.0 1.0 1.0 2.0 2.0 2.0 1.0 1.0\n",
      " 1.0 0.7 1.0 2.0 2.0 1.0 1.0 0.9 1.0 1.0 1.0 1.0 0.9 1.0 1.0 0.6 1.0 1.0\n",
      " 2.0 1.0 1.0 2.0 1.0 1.0 1.0 1.0 1.0 2.0 1.0 0.9 2.0 0.9 1.0 2.0 2.0 0.7\n",
      " 2.0 0.9 0.9 0.5 0.8 1.0 2.0 0.8 0.5 0.6 2.0 1.0 1.0 1.0 2.0 1.0 1.0 1.0\n",
      " 0.7 0.8 1.0 2.0 0.4 2.0 0.9 0.8 1.0 0.8 1.0 1.0 1.0 1.0 1.0 1.0 0.9 1.0\n",
      " 1.0 1.0 1.0 0.6]\n"
     ]
    },
    {
     "data": {
      "text/plain": [
       "Text(0.5, 0, 'Population Group')"
      ]
     },
     "execution_count": 71,
     "metadata": {},
     "output_type": "execute_result"
    },
    {
     "data": {
      "image/png": "[encoded data removed]",
      "text/plain": [
       "<Figure size 640x480 with 1 Axes>"
      ]
     },
     "metadata": {},
     "output_type": "display_data"
    }
   ],
   "source": [
    "SW_arr_B= np.array(brit_clean1.iloc[1,1:])\n",
    "SW_arr_F= np.array(finl_clean1.iloc[1,1:])\n",
    "SW_arr_T= np.array(tusc_clean1.iloc[1,1:])\n",
    "SW_arr_U= np.array(utah_clean1.iloc[1,1:])\n",
    "SW_arr_Y= np.array(yoru_clean1.iloc[1,1:])\n",
    "all_data = [SW_arr_B,SW_arr_F,SW_arr_T,SW_arr_U,SW_arr_Y]\n",
    "\n",
    "print(SW_arr_B)\n",
    "\n",
    "plt.boxplot(all_data,labels=('Brit','Finl','Tusc','Utah','Yoru'))\n",
    "plt.title('Average OPN1SW Gene Expression by Population')\n",
    "plt.ylabel('Average Gene Expression')\n",
    "plt.xlabel('Population Group')"
   ]
  },
  {
   "cell_type": "markdown",
   "metadata": {},
   "source": [
    "check to see if avgs make sense"
   ]
  },
  {
   "cell_type": "code",
   "execution_count": 43,
   "metadata": {},
   "outputs": [
    {
     "name": "stdout",
     "output_type": "stream",
     "text": [
      "Gene Name  OPN1LW     OPN1SW\n",
      "count         0.0  94.000000\n",
      "mean          NaN   1.175532\n",
      "std           NaN   0.497237\n",
      "min           NaN   0.400000\n",
      "25%           NaN   1.000000\n",
      "50%           NaN   1.000000\n",
      "75%           NaN   1.000000\n",
      "max           NaN   3.000000\n"
     ]
    }
   ],
   "source": [
    "notswapperoo = brit_clean1.set_index(brit_clean1.columns[0])\n",
    "brit_swapperoo = notswapperoo.T\n",
    "\n",
    "brit_summary = brit_swapperoo.describe()\n",
    "print(brit_summary)"
   ]
  },
  {
   "cell_type": "markdown",
   "metadata": {},
   "source": [
    "now check for male/female"
   ]
  },
  {
   "cell_type": "code",
   "execution_count": 44,
   "metadata": {},
   "outputs": [
    {
     "name": "stdout",
     "output_type": "stream",
     "text": [
      "           Gene ID Gene Name  British, HG00096  British, HG00097  \\\n",
      "0  ENSG00000000003    TSPAN6               NaN               NaN   \n",
      "1  ENSG00000000005      TNMD               NaN               NaN   \n",
      "2  ENSG00000000419      DPM1              50.0              37.0   \n",
      "3  ENSG00000000457     SCYL3               4.0               3.0   \n",
      "4  ENSG00000000460  C1orf112               4.0               5.0   \n",
      "\n",
      "   British, HG00099  British, HG00100  British, HG00101  British, HG00102  \\\n",
      "0               NaN               NaN               NaN               NaN   \n",
      "1               NaN               NaN               NaN               NaN   \n",
      "2              48.0              45.0              47.0              61.0   \n",
      "3               3.0               3.0               4.0               4.0   \n",
      "4               5.0               4.0               6.0               5.0   \n",
      "\n",
      "   British, HG00103  British, HG00104  ...  Yoruba, NA19214  Yoruba, NA19222  \\\n",
      "0               NaN               0.1  ...              NaN              NaN   \n",
      "1               NaN               NaN  ...              NaN              NaN   \n",
      "2              69.0              50.0  ...             45.0             38.0   \n",
      "3               3.0               3.0  ...              3.0              2.0   \n",
      "4               3.0               3.0  ...              5.0              4.0   \n",
      "\n",
      "   Yoruba, NA19223  Yoruba, NA19225  Yoruba, NA19235  Yoruba, NA19236  \\\n",
      "0              0.5              0.1              0.1              0.1   \n",
      "1              NaN              NaN              NaN              NaN   \n",
      "2             46.0             32.0             40.0             53.0   \n",
      "3              3.0              3.0              4.0              4.0   \n",
      "4              6.0              4.0              5.0              5.0   \n",
      "\n",
      "   Yoruba, NA19247  Yoruba, NA19248  Yoruba, NA19256  Yoruba, NA19257  \n",
      "0              0.1              0.1              NaN              NaN  \n",
      "1              NaN              NaN              NaN              NaN  \n",
      "2             61.0             44.0             43.0             26.0  \n",
      "3              4.0              3.0              4.0              3.0  \n",
      "4              6.0              6.0              5.0              4.0  \n",
      "\n",
      "[5 rows x 464 columns]\n"
     ]
    }
   ],
   "source": [
    "print(df1.head())"
   ]
  },
  {
   "cell_type": "markdown",
   "metadata": {},
   "source": [
    "cleanup sample info to have just gender and id"
   ]
  },
  {
   "cell_type": "code",
   "execution_count": 45,
   "metadata": {},
   "outputs": [
    {
     "name": "stdout",
     "output_type": "stream",
     "text": [
      "    Sample  Gender\n",
      "0  HG00096    male\n",
      "1  HG00097  female\n",
      "2  HG00098    male\n",
      "3  HG00099  female\n",
      "4  HG00100  female\n"
     ]
    }
   ],
   "source": [
    "sample_info = df2.iloc[:,[0,4]]\n",
    "\n",
    "print(sample_info.head())"
   ]
  },
  {
   "cell_type": "markdown",
   "metadata": {},
   "source": [
    "cleanup df1 to have just gene ids"
   ]
  },
  {
   "cell_type": "code",
   "execution_count": 46,
   "metadata": {},
   "outputs": [
    {
     "name": "stdout",
     "output_type": "stream",
     "text": [
      "Gene Name  TSPAN6  TNMD  DPM1  SCYL3  C1orf112   FGR  CFH  FUCA2  GCLC  NFYA  \\\n",
      "HG00096       NaN   NaN  50.0    4.0       4.0  45.0  NaN   10.0   3.0  13.0   \n",
      "HG00097       NaN   NaN  37.0    3.0       5.0  39.0  NaN   10.0   2.0  15.0   \n",
      "HG00099       NaN   NaN  48.0    3.0       5.0  38.0  NaN   12.0   3.0  14.0   \n",
      "HG00100       NaN   NaN  45.0    3.0       4.0  54.0  NaN   11.0   2.0  14.0   \n",
      "HG00101       NaN   NaN  47.0    4.0       6.0  40.0  NaN   13.0   3.0  15.0   \n",
      "...           ...   ...   ...    ...       ...   ...  ...    ...   ...   ...   \n",
      "NA19236       0.1   NaN  53.0    4.0       5.0  64.0  NaN   15.0   3.0  19.0   \n",
      "NA19247       0.1   NaN  61.0    4.0       6.0  37.0  NaN   14.0   2.0  16.0   \n",
      "NA19248       0.1   NaN  44.0    3.0       6.0  28.0  NaN   11.0   3.0  19.0   \n",
      "NA19256       NaN   NaN  43.0    4.0       5.0  52.0  NaN   10.0   3.0  16.0   \n",
      "NA19257       NaN   NaN  26.0    3.0       4.0  24.0  NaN   14.0   2.0  12.0   \n",
      "\n",
      "Gene Name  ...  ENSG00000285979  ENSG00000285981  ENSG00000285984  LINC02689  \\\n",
      "HG00096    ...              2.0              NaN              NaN        NaN   \n",
      "HG00097    ...              1.0              NaN              NaN        NaN   \n",
      "HG00099    ...              0.4              NaN              NaN        NaN   \n",
      "HG00100    ...              0.9              NaN              NaN        NaN   \n",
      "HG00101    ...              2.0              NaN              NaN        NaN   \n",
      "...        ...              ...              ...              ...        ...   \n",
      "NA19236    ...              2.0              NaN              NaN        NaN   \n",
      "NA19247    ...              1.0              NaN              NaN        NaN   \n",
      "NA19248    ...              0.7              NaN              NaN        NaN   \n",
      "NA19256    ...              2.0              NaN              NaN        NaN   \n",
      "NA19257    ...              0.5              NaN              NaN        NaN   \n",
      "\n",
      "Gene Name  ENSG00000285986  NBEAP6  ENSG00000285991  ENSG00000285992  \\\n",
      "HG00096                NaN     NaN              NaN              NaN   \n",
      "HG00097                NaN     NaN              NaN              NaN   \n",
      "HG00099                NaN     NaN              NaN              NaN   \n",
      "HG00100                NaN     NaN              NaN              NaN   \n",
      "HG00101                NaN     NaN              NaN              NaN   \n",
      "...                    ...     ...              ...              ...   \n",
      "NA19236                NaN     NaN              NaN              NaN   \n",
      "NA19247                NaN     NaN              NaN              NaN   \n",
      "NA19248                NaN     NaN              NaN              NaN   \n",
      "NA19256                NaN     NaN              NaN              NaN   \n",
      "NA19257                NaN     NaN              NaN              NaN   \n",
      "\n",
      "Gene Name  ENSG00000285993  ENSG00000285994  \n",
      "HG00096                NaN              0.2  \n",
      "HG00097                NaN              0.1  \n",
      "HG00099                NaN              NaN  \n",
      "HG00100                NaN              NaN  \n",
      "HG00101                NaN              0.2  \n",
      "...                    ...              ...  \n",
      "NA19236                NaN              NaN  \n",
      "NA19247                NaN              0.1  \n",
      "NA19248                NaN              NaN  \n",
      "NA19256                NaN              NaN  \n",
      "NA19257                NaN              NaN  \n",
      "\n",
      "[462 rows x 48973 columns]\n"
     ]
    }
   ],
   "source": [
    "exp_mat = df1.drop(df1.columns[0],axis=1)\n",
    "\n",
    "exp_mat.columns = exp_mat.columns.str.replace('British, ', '')\n",
    "exp_mat.columns = exp_mat.columns.str.replace('Tuscan, ','')\n",
    "exp_mat.columns = exp_mat.columns.str.replace('Yoruba, ','')\n",
    "exp_mat.columns = exp_mat.columns.str.replace('Utah, ','')\n",
    "exp_mat.columns = exp_mat.columns.str.replace('Finland, ','')\n",
    "\n",
    "notswapperoo = exp_mat.set_index(exp_mat.columns[0])\n",
    "swapperoo = notswapperoo.T\n",
    "\n",
    "print(swapperoo)"
   ]
  },
  {
   "cell_type": "markdown",
   "metadata": {},
   "source": [
    "join the two dfs"
   ]
  },
  {
   "cell_type": "code",
   "execution_count": 47,
   "metadata": {},
   "outputs": [
    {
     "name": "stdout",
     "output_type": "stream",
     "text": [
      "       key_0  TSPAN6  TNMD  DPM1  SCYL3  C1orf112   FGR  CFH  FUCA2  GCLC  \\\n",
      "0    HG00096     NaN   NaN  50.0    4.0       4.0  45.0  NaN   10.0   3.0   \n",
      "1    HG00097     NaN   NaN  37.0    3.0       5.0  39.0  NaN   10.0   2.0   \n",
      "2    HG00099     NaN   NaN  48.0    3.0       5.0  38.0  NaN   12.0   3.0   \n",
      "3    HG00100     NaN   NaN  45.0    3.0       4.0  54.0  NaN   11.0   2.0   \n",
      "4    HG00101     NaN   NaN  47.0    4.0       6.0  40.0  NaN   13.0   3.0   \n",
      "..       ...     ...   ...   ...    ...       ...   ...  ...    ...   ...   \n",
      "457  NA19236     0.1   NaN  53.0    4.0       5.0  64.0  NaN   15.0   3.0   \n",
      "458  NA19247     0.1   NaN  61.0    4.0       6.0  37.0  NaN   14.0   2.0   \n",
      "459  NA19248     0.1   NaN  44.0    3.0       6.0  28.0  NaN   11.0   3.0   \n",
      "460  NA19256     NaN   NaN  43.0    4.0       5.0  52.0  NaN   10.0   3.0   \n",
      "461  NA19257     NaN   NaN  26.0    3.0       4.0  24.0  NaN   14.0   2.0   \n",
      "\n",
      "     ...  ENSG00000285984  LINC02689  ENSG00000285986  NBEAP6  \\\n",
      "0    ...              NaN        NaN              NaN     NaN   \n",
      "1    ...              NaN        NaN              NaN     NaN   \n",
      "2    ...              NaN        NaN              NaN     NaN   \n",
      "3    ...              NaN        NaN              NaN     NaN   \n",
      "4    ...              NaN        NaN              NaN     NaN   \n",
      "..   ...              ...        ...              ...     ...   \n",
      "457  ...              NaN        NaN              NaN     NaN   \n",
      "458  ...              NaN        NaN              NaN     NaN   \n",
      "459  ...              NaN        NaN              NaN     NaN   \n",
      "460  ...              NaN        NaN              NaN     NaN   \n",
      "461  ...              NaN        NaN              NaN     NaN   \n",
      "\n",
      "     ENSG00000285991  ENSG00000285992  ENSG00000285993  ENSG00000285994  \\\n",
      "0                NaN              NaN              NaN              0.2   \n",
      "1                NaN              NaN              NaN              0.1   \n",
      "2                NaN              NaN              NaN              NaN   \n",
      "3                NaN              NaN              NaN              NaN   \n",
      "4                NaN              NaN              NaN              0.2   \n",
      "..               ...              ...              ...              ...   \n",
      "457              NaN              NaN              NaN              NaN   \n",
      "458              NaN              NaN              NaN              0.1   \n",
      "459              NaN              NaN              NaN              NaN   \n",
      "460              NaN              NaN              NaN              NaN   \n",
      "461              NaN              NaN              NaN              NaN   \n",
      "\n",
      "      Sample  Gender  \n",
      "0    HG00096    male  \n",
      "1    HG00097  female  \n",
      "2    HG00099  female  \n",
      "3    HG00100  female  \n",
      "4    HG00101    male  \n",
      "..       ...     ...  \n",
      "457  NA19236    male  \n",
      "458  NA19247  female  \n",
      "459  NA19248    male  \n",
      "460  NA19256    male  \n",
      "461  NA19257  female  \n",
      "\n",
      "[462 rows x 48976 columns]\n"
     ]
    }
   ],
   "source": [
    "joined_df = swapperoo.merge(sample_info, left_on=swapperoo.index,right_on=sample_info['Sample'],how='inner')\n",
    "\n",
    "print(joined_df)"
   ]
  },
  {
   "cell_type": "markdown",
   "metadata": {},
   "source": [
    "put each gender in its own dataframe"
   ]
  },
  {
   "cell_type": "code",
   "execution_count": 61,
   "metadata": {},
   "outputs": [
    {
     "name": "stdout",
     "output_type": "stream",
     "text": [
      "key_0            HG00097  HG00099  HG00100  HG00102  HG00104  HG00106  \\\n",
      "TSPAN6               NaN      NaN      NaN      NaN      0.1      NaN   \n",
      "TNMD                 NaN      NaN      NaN      NaN      NaN      NaN   \n",
      "DPM1                37.0     48.0     45.0     61.0     50.0     56.0   \n",
      "SCYL3                3.0      3.0      3.0      4.0      3.0      4.0   \n",
      "C1orf112             5.0      5.0      4.0      5.0      3.0      5.0   \n",
      "...                  ...      ...      ...      ...      ...      ...   \n",
      "NBEAP6               NaN      NaN      NaN      NaN      NaN      NaN   \n",
      "ENSG00000285991      NaN      NaN      NaN      NaN      NaN      NaN   \n",
      "ENSG00000285992      NaN      NaN      NaN      NaN      NaN      NaN   \n",
      "ENSG00000285993      NaN      NaN      NaN      NaN      NaN      NaN   \n",
      "ENSG00000285994      0.1      NaN      NaN      0.1      0.1      NaN   \n",
      "\n",
      "key_0            HG00110  HG00111  HG00118  HG00120  ...  NA19201  NA19204  \\\n",
      "TSPAN6               NaN      0.2      0.1      NaN  ...      0.1      NaN   \n",
      "TNMD                 NaN      NaN      NaN      NaN  ...      NaN      NaN   \n",
      "DPM1                48.0     55.0     59.0     42.0  ...     41.0     25.0   \n",
      "SCYL3                3.0      3.0      4.0      4.0  ...      3.0      3.0   \n",
      "C1orf112             5.0      5.0      5.0      3.0  ...      6.0      5.0   \n",
      "...                  ...      ...      ...      ...  ...      ...      ...   \n",
      "NBEAP6               NaN      NaN      NaN      NaN  ...      NaN      NaN   \n",
      "ENSG00000285991      NaN      NaN      NaN      NaN  ...      NaN      NaN   \n",
      "ENSG00000285992      NaN      NaN      NaN      NaN  ...      NaN      NaN   \n",
      "ENSG00000285993      NaN      NaN      NaN      NaN  ...      NaN      NaN   \n",
      "ENSG00000285994      NaN      NaN      NaN      NaN  ...      0.1      0.1   \n",
      "\n",
      "key_0            NA19206  NA19209  NA19214  NA19222  NA19225  NA19235  \\\n",
      "TSPAN6               0.1      0.2      NaN      NaN      0.1      0.1   \n",
      "TNMD                 NaN      NaN      NaN      NaN      NaN      NaN   \n",
      "DPM1                39.0     40.0     45.0     38.0     32.0     40.0   \n",
      "SCYL3                2.0      4.0      3.0      2.0      3.0      4.0   \n",
      "C1orf112             3.0      5.0      5.0      4.0      4.0      5.0   \n",
      "...                  ...      ...      ...      ...      ...      ...   \n",
      "NBEAP6               0.1      NaN      NaN      NaN      NaN      NaN   \n",
      "ENSG00000285991      NaN      NaN      NaN      NaN      NaN      NaN   \n",
      "ENSG00000285992      NaN      NaN      NaN      NaN      NaN      NaN   \n",
      "ENSG00000285993      NaN      NaN      NaN      NaN      NaN      NaN   \n",
      "ENSG00000285994      NaN      NaN      0.1      NaN      NaN      0.1   \n",
      "\n",
      "key_0            NA19247  NA19257  \n",
      "TSPAN6               0.1      NaN  \n",
      "TNMD                 NaN      NaN  \n",
      "DPM1                61.0     26.0  \n",
      "SCYL3                4.0      3.0  \n",
      "C1orf112             6.0      4.0  \n",
      "...                  ...      ...  \n",
      "NBEAP6               NaN      NaN  \n",
      "ENSG00000285991      NaN      NaN  \n",
      "ENSG00000285992      NaN      NaN  \n",
      "ENSG00000285993      NaN      NaN  \n",
      "ENSG00000285994      0.1      NaN  \n",
      "\n",
      "[48973 rows x 246 columns]\n"
     ]
    }
   ],
   "source": [
    "female1 = joined_df[joined_df['Gender'] == 'female'].copy()\n",
    "male1 = joined_df[joined_df['Gender'] == 'male'].copy()\n",
    "\n",
    "female1 = female1.drop(['Sample','Gender'],axis=1)\n",
    "male1 = male1.drop(['Sample','Gender'],axis=1)\n",
    "\n",
    "\n",
    "\n",
    "female2 = female1.set_index(female1.columns[0])\n",
    "male2 = male1.set_index(male1.columns[0])\n",
    "\n",
    "female = female2.T\n",
    "male = male2.T\n",
    "\n",
    "print(female)"
   ]
  },
  {
   "cell_type": "code",
   "execution_count": 78,
   "metadata": {},
   "outputs": [
    {
     "data": {
      "text/plain": [
       "Text(0.5, 0, 'Sex')"
      ]
     },
     "execution_count": 78,
     "metadata": {},
     "output_type": "execute_result"
    },
    {
     "data": {
      "image/png": "[encoded data removed]",
      "text/plain": [
       "<Figure size 640x480 with 1 Axes>"
      ]
     },
     "metadata": {},
     "output_type": "display_data"
    }
   ],
   "source": [
    "lw_fem = np.array(female[female.index=='OPN1LW'])\n",
    "sw_fem = np.array(female[female.index=='OPN1SW'])\n",
    "lw_fem = lw_fem.flatten()\n",
    "sw_fem = sw_fem.flatten()\n",
    "\n",
    "lw_mal = np.array(male[male.index=='OPN1LW'])\n",
    "sw_mal = np.array(male[male.index=='OPN1SW'])\n",
    "lw_mal = lw_mal.flatten()\n",
    "sw_mal = sw_mal.flatten()\n",
    "\n",
    "sw_comb = [sw_fem,sw_mal]\n",
    "\n",
    "plt.boxplot(sw_comb,labels=('Female','Male'))\n",
    "plt.title('Average OPN1SW Gene Expression by Sex')\n",
    "plt.ylabel('Average Gene Expression')\n",
    "plt.xlabel('Sex')\n",
    "\n",
    "\n"
   ]
  },
  {
   "cell_type": "markdown",
   "metadata": {},
   "source": [
    "now do avgs for gender"
   ]
  },
  {
   "cell_type": "code",
   "execution_count": 49,
   "metadata": {},
   "outputs": [
    {
     "name": "stdout",
     "output_type": "stream",
     "text": [
      "key_0   HG00097       Avg\n",
      "OPN1LW      NaN       NaN\n",
      "OPN1SW      1.0  1.084959\n"
     ]
    }
   ],
   "source": [
    "avg1 = female.copy()\n",
    "\n",
    "avg1['Avg'] = avg1.mean(axis=1)\n",
    "check1 = avg1.iloc[:,[0,246]]\n",
    "\n",
    "mygenes_f = check1[(check1.index=='OPN1LW') | (check1.index=='OPN1MW') | (check1.index=='OPN1SW')]\n",
    "print(mygenes_f)"
   ]
  },
  {
   "cell_type": "code",
   "execution_count": 50,
   "metadata": {},
   "outputs": [
    {
     "name": "stdout",
     "output_type": "stream",
     "text": [
      "key_0   HG00096       Avg\n",
      "OPN1LW      NaN  0.100000\n",
      "OPN1SW      1.0  1.124537\n"
     ]
    }
   ],
   "source": [
    "avg2 = male.copy()\n",
    "\n",
    "avg2['Avg'] = avg2.mean(axis=1)\n",
    "check2 = avg2.iloc[:,[0,216]]\n",
    "\n",
    "mygenes_m = check2[(check2.index=='OPN1LW') | (check2.index=='OPN1MW') | (check2.index=='OPN1SW')]\n",
    "print(mygenes_m)"
   ]
  }
 ],
 "metadata": {
  "kernelspec": {
   "display_name": "Python 3",
   "language": "python",
   "name": "python3"
  },
  "language_info": {
   "codemirror_mode": {
    "name": "ipython",
    "version": 3
   },
   "file_extension": ".py",
   "mimetype": "text/x-python",
   "name": "python",
   "nbconvert_exporter": "python",
   "pygments_lexer": "ipython3",
   "version": "3.11.1"
  },
  "orig_nbformat": 4
 },
 "nbformat": 4,
 "nbformat_minor": 2
}
